{
 "cells": [
  {
   "cell_type": "markdown",
   "id": "769bbfe2",
   "metadata": {},
   "source": [
    "Step1:Import Libraries"
   ]
  },
  {
   "cell_type": "code",
   "execution_count": 1,
   "id": "d2ecfe0c",
   "metadata": {},
   "outputs": [],
   "source": [
    "import pandas as pd\n",
    "from sklearn.model_selection import train_test_split\n",
    "from sklearn.preprocessing import LabelEncoder\n",
    "from sklearn.linear_model import LogisticRegression\n",
    "from sklearn.metrics import accuracy_score\n",
    "import seaborn as sns\n",
    "import matplotlib.pyplot as plt"
   ]
  },
  {
   "cell_type": "markdown",
   "id": "2c242d15",
   "metadata": {},
   "source": [
    "Step2:Load Dataset"
   ]
  },
  {
   "cell_type": "code",
   "execution_count": 2,
   "id": "84d26a3e",
   "metadata": {},
   "outputs": [],
   "source": [
    "df = pd.read_csv(f'C:/Users/sneha/OneDrive/Desktop/CODSOFT/Task1_TitanicSurvival/Titanic-Dataset.csv')"
   ]
  },
  {
   "cell_type": "markdown",
   "id": "6e96587a",
   "metadata": {},
   "source": [
    "Step3:Clean Data"
   ]
  },
  {
   "cell_type": "code",
   "execution_count": 3,
   "id": "00431a5d",
   "metadata": {},
   "outputs": [],
   "source": [
    "df.drop(['PassengerId', 'Name', 'Ticket', 'Cabin'], axis=1, inplace=True)\n",
    "#Cleaning data done\n",
    "df['Age'] = df['Age'].fillna(df['Age'].median())\n",
    "df['Embarked'] =df['Embarked'].fillna(df['Embarked'].mode()[0])"
   ]
  },
  {
   "cell_type": "markdown",
   "id": "7916cc53",
   "metadata": {},
   "source": [
    "Step4:Encode Catgory Columns"
   ]
  },
  {
   "cell_type": "code",
   "execution_count": 4,
   "id": "44af4436",
   "metadata": {},
   "outputs": [],
   "source": [
    "le = LabelEncoder()\n",
    "#encoding categorical var\n",
    "df['Sex'] = le.fit_transform(df['Sex'])\n",
    "df['Embarked'] = le.fit_transform(df['Embarked'])\n"
   ]
  },
  {
   "cell_type": "markdown",
   "id": "d4a229b3",
   "metadata": {},
   "source": [
    "Step5:Data Splitting"
   ]
  },
  {
   "cell_type": "code",
   "execution_count": 5,
   "id": "3fea20ce",
   "metadata": {},
   "outputs": [],
   "source": [
    "x = df.drop('Survived', axis=1)\n",
    "y = df['Survived']\n",
    "x_train, x_test, y_train, y_test = train_test_split(x, y, test_size=0.2, random_state=42 )\n"
   ]
  },
  {
   "cell_type": "markdown",
   "id": "c9b384d9",
   "metadata": {},
   "source": [
    "STep6:Training,Predicting the Model"
   ]
  },
  {
   "cell_type": "code",
   "execution_count": 6,
   "id": "c4f84b7a",
   "metadata": {},
   "outputs": [
    {
     "name": "stdout",
     "output_type": "stream",
     "text": [
      "Logistic Regression Accuracy: 0.8100558659217877\n"
     ]
    }
   ],
   "source": [
    "model = LogisticRegression(max_iter=1000)\n",
    "model.fit(x_train, y_train)\n",
    "y_pred = model.predict(x_test)\n",
    "print(\"Logistic Regression Accuracy:\",accuracy_score(y_test, y_pred))\n"
   ]
  },
  {
   "cell_type": "markdown",
   "id": "2691d569",
   "metadata": {},
   "source": [
    "Step7:Graph Plot for Visualization"
   ]
  },
  {
   "cell_type": "code",
   "execution_count": 7,
   "id": "2363e386",
   "metadata": {},
   "outputs": [
    {
     "data": {
      "image/png": "[encoded data removed]",
      "text/plain": [
       "<Figure size 640x480 with 1 Axes>"
      ]
     },
     "metadata": {},
     "output_type": "display_data"
    }
   ],
   "source": [
    "sns.countplot(x='Survived', hue='Sex', data=df)\n",
    "plt.title(\"Survival Count by Gender\")\n",
    "plt.show()"
   ]
  }
 ],
 "metadata": {
  "kernelspec": {
   "display_name": "Python 3",
   "language": "python",
   "name": "python3"
  },
  "language_info": {
   "codemirror_mode": {
    "name": "ipython",
    "version": 3
   },
   "file_extension": ".py",
   "mimetype": "text/x-python",
   "name": "python",
   "nbconvert_exporter": "python",
   "pygments_lexer": "ipython3",
   "version": "3.13.4"
  }
 },
 "nbformat": 4,
 "nbformat_minor": 5
}
