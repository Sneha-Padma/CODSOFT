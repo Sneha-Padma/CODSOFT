{
 "cells": [
  {
   "cell_type": "markdown",
   "id": "4806fd16",
   "metadata": {},
   "source": [
    "Import Libraries"
   ]
  },
  {
   "cell_type": "code",
   "execution_count": 1,
   "id": "75f69693",
   "metadata": {},
   "outputs": [],
   "source": [
    "import pandas as pd\n",
    "import numpy as np\n",
    "import seaborn as sns\n",
    "import  matplotlib.pyplot as plt\n",
    "import joblib\n",
    "\n",
    "from sklearn.model_selection import train_test_split\n",
    "from sklearn.linear_model import LinearRegression\n",
    "from sklearn.ensemble import RandomForestRegressor\n",
    "from sklearn.metrics import mean_squared_error, r2_score\n",
    "from sklearn.preprocessing import LabelEncoder"
   ]
  },
  {
   "cell_type": "markdown",
   "id": "f9c9eeda",
   "metadata": {},
   "source": [
    "Load Dataset"
   ]
  },
  {
   "cell_type": "code",
   "execution_count": 2,
   "id": "4dcc2386",
   "metadata": {},
   "outputs": [
    {
     "data": {
      "text/html": [
       "<div>\n",
       "<style scoped>\n",
       "    .dataframe tbody tr th:only-of-type {\n",
       "        vertical-align: middle;\n",
       "    }\n",
       "\n",
       "    .dataframe tbody tr th {\n",
       "        vertical-align: top;\n",
       "    }\n",
       "\n",
       "    .dataframe thead th {\n",
       "        text-align: right;\n",
       "    }\n",
       "</style>\n",
       "<table border=\"1\" class=\"dataframe\">\n",
       "  <thead>\n",
       "    <tr style=\"text-align: right;\">\n",
       "      <th></th>\n",
       "      <th>Name</th>\n",
       "      <th>Year</th>\n",
       "      <th>Duration</th>\n",
       "      <th>Genre</th>\n",
       "      <th>Rating</th>\n",
       "      <th>Votes</th>\n",
       "      <th>Director</th>\n",
       "      <th>Actor 1</th>\n",
       "      <th>Actor 2</th>\n",
       "      <th>Actor 3</th>\n",
       "    </tr>\n",
       "  </thead>\n",
       "  <tbody>\n",
       "    <tr>\n",
       "      <th>0</th>\n",
       "      <td></td>\n",
       "      <td>NaN</td>\n",
       "      <td>NaN</td>\n",
       "      <td>Drama</td>\n",
       "      <td>NaN</td>\n",
       "      <td>NaN</td>\n",
       "      <td>J.S. Randhawa</td>\n",
       "      <td>Manmauji</td>\n",
       "      <td>Birbal</td>\n",
       "      <td>Rajendra Bhatia</td>\n",
       "    </tr>\n",
       "    <tr>\n",
       "      <th>1</th>\n",
       "      <td>#Gadhvi (He thought he was Gandhi)</td>\n",
       "      <td>(2019)</td>\n",
       "      <td>109 min</td>\n",
       "      <td>Drama</td>\n",
       "      <td>7.0</td>\n",
       "      <td>8</td>\n",
       "      <td>Gaurav Bakshi</td>\n",
       "      <td>Rasika Dugal</td>\n",
       "      <td>Vivek Ghamande</td>\n",
       "      <td>Arvind Jangid</td>\n",
       "    </tr>\n",
       "    <tr>\n",
       "      <th>2</th>\n",
       "      <td>#Homecoming</td>\n",
       "      <td>(2021)</td>\n",
       "      <td>90 min</td>\n",
       "      <td>Drama, Musical</td>\n",
       "      <td>NaN</td>\n",
       "      <td>NaN</td>\n",
       "      <td>Soumyajit Majumdar</td>\n",
       "      <td>Sayani Gupta</td>\n",
       "      <td>Plabita Borthakur</td>\n",
       "      <td>Roy Angana</td>\n",
       "    </tr>\n",
       "    <tr>\n",
       "      <th>3</th>\n",
       "      <td>#Yaaram</td>\n",
       "      <td>(2019)</td>\n",
       "      <td>110 min</td>\n",
       "      <td>Comedy, Romance</td>\n",
       "      <td>4.4</td>\n",
       "      <td>35</td>\n",
       "      <td>Ovais Khan</td>\n",
       "      <td>Prateik</td>\n",
       "      <td>Ishita Raj</td>\n",
       "      <td>Siddhant Kapoor</td>\n",
       "    </tr>\n",
       "    <tr>\n",
       "      <th>4</th>\n",
       "      <td>...And Once Again</td>\n",
       "      <td>(2010)</td>\n",
       "      <td>105 min</td>\n",
       "      <td>Drama</td>\n",
       "      <td>NaN</td>\n",
       "      <td>NaN</td>\n",
       "      <td>Amol Palekar</td>\n",
       "      <td>Rajat Kapoor</td>\n",
       "      <td>Rituparna Sengupta</td>\n",
       "      <td>Antara Mali</td>\n",
       "    </tr>\n",
       "  </tbody>\n",
       "</table>\n",
       "</div>"
      ],
      "text/plain": [
       "                                 Name    Year Duration            Genre  \\\n",
       "0                                         NaN      NaN            Drama   \n",
       "1  #Gadhvi (He thought he was Gandhi)  (2019)  109 min            Drama   \n",
       "2                         #Homecoming  (2021)   90 min   Drama, Musical   \n",
       "3                             #Yaaram  (2019)  110 min  Comedy, Romance   \n",
       "4                   ...And Once Again  (2010)  105 min            Drama   \n",
       "\n",
       "   Rating Votes            Director       Actor 1             Actor 2  \\\n",
       "0     NaN   NaN       J.S. Randhawa      Manmauji              Birbal   \n",
       "1     7.0     8       Gaurav Bakshi  Rasika Dugal      Vivek Ghamande   \n",
       "2     NaN   NaN  Soumyajit Majumdar  Sayani Gupta   Plabita Borthakur   \n",
       "3     4.4    35          Ovais Khan       Prateik          Ishita Raj   \n",
       "4     NaN   NaN        Amol Palekar  Rajat Kapoor  Rituparna Sengupta   \n",
       "\n",
       "           Actor 3  \n",
       "0  Rajendra Bhatia  \n",
       "1    Arvind Jangid  \n",
       "2       Roy Angana  \n",
       "3  Siddhant Kapoor  \n",
       "4      Antara Mali  "
      ]
     },
     "execution_count": 2,
     "metadata": {},
     "output_type": "execute_result"
    }
   ],
   "source": [
    "# Load the dataset\n",
    "df = pd.read_csv('C:/Users/sneha/OneDrive/Desktop/CODSOFT/Task2_MovieRating/IMDb Movies India.csv', encoding= 'latin1')\n",
    "\n",
    "# Show first few rows\n",
    "df.head()\n",
    "\n",
    "\n"
   ]
  },
  {
   "cell_type": "markdown",
   "id": "31bd8cbd",
   "metadata": {},
   "source": [
    "Explore Dataset"
   ]
  },
  {
   "cell_type": "code",
   "execution_count": 3,
   "id": "b9164b3d",
   "metadata": {},
   "outputs": [
    {
     "name": "stdout",
     "output_type": "stream",
     "text": [
      "Data Shape: (15509, 10)\n",
      "\n",
      "Dataset Information:\n",
      "\n",
      "<class 'pandas.core.frame.DataFrame'>\n",
      "RangeIndex: 15509 entries, 0 to 15508\n",
      "Data columns (total 10 columns):\n",
      " #   Column    Non-Null Count  Dtype  \n",
      "---  ------    --------------  -----  \n",
      " 0   Name      15509 non-null  object \n",
      " 1   Year      14981 non-null  object \n",
      " 2   Duration  7240 non-null   object \n",
      " 3   Genre     13632 non-null  object \n",
      " 4   Rating    7919 non-null   float64\n",
      " 5   Votes     7920 non-null   object \n",
      " 6   Director  14984 non-null  object \n",
      " 7   Actor 1   13892 non-null  object \n",
      " 8   Actor 2   13125 non-null  object \n",
      " 9   Actor 3   12365 non-null  object \n",
      "dtypes: float64(1), object(9)\n",
      "memory usage: 1.2+ MB\n",
      "None\n",
      "\n",
      "First 5 rows.\n",
      "\n",
      "                                 Name    Year Duration            Genre  \\\n",
      "0                                         NaN      NaN            Drama   \n",
      "1  #Gadhvi (He thought he was Gandhi)  (2019)  109 min            Drama   \n",
      "2                         #Homecoming  (2021)   90 min   Drama, Musical   \n",
      "3                             #Yaaram  (2019)  110 min  Comedy, Romance   \n",
      "4                   ...And Once Again  (2010)  105 min            Drama   \n",
      "\n",
      "   Rating Votes            Director       Actor 1             Actor 2  \\\n",
      "0     NaN   NaN       J.S. Randhawa      Manmauji              Birbal   \n",
      "1     7.0     8       Gaurav Bakshi  Rasika Dugal      Vivek Ghamande   \n",
      "2     NaN   NaN  Soumyajit Majumdar  Sayani Gupta   Plabita Borthakur   \n",
      "3     4.4    35          Ovais Khan       Prateik          Ishita Raj   \n",
      "4     NaN   NaN        Amol Palekar  Rajat Kapoor  Rituparna Sengupta   \n",
      "\n",
      "           Actor 3  \n",
      "0  Rajendra Bhatia  \n",
      "1    Arvind Jangid  \n",
      "2       Roy Angana  \n",
      "3  Siddhant Kapoor  \n",
      "4      Antara Mali  \n",
      "\n",
      "Missing values per column:\n",
      "\n",
      "Name           0\n",
      "Year         528\n",
      "Duration    8269\n",
      "Genre       1877\n",
      "Rating      7590\n",
      "Votes       7589\n",
      "Director     525\n",
      "Actor 1     1617\n",
      "Actor 2     2384\n",
      "Actor 3     3144\n",
      "dtype: int64\n"
     ]
    }
   ],
   "source": [
    "print(\"Data Shape:\",df.shape)\n",
    "print(\"\\nDataset Information:\\n\")\n",
    "print(df.info())\n",
    " #Check first few rows\n",
    "print(\"\\nFirst 5 rows.\\n\")\n",
    "print(df.head())\n",
    "\n",
    "#check missing value\n",
    "print(\"\\nMissing values per column:\\n\")\n",
    "print(df.isnull().sum())"
   ]
  },
  {
   "cell_type": "markdown",
   "id": "0fda2a19",
   "metadata": {},
   "source": [
    "Clean and Encode Data"
   ]
  },
  {
   "cell_type": "code",
   "execution_count": 4,
   "id": "7ffc5645",
   "metadata": {},
   "outputs": [
    {
     "name": "stdout",
     "output_type": "stream",
     "text": [
      "\n",
      " Current Columns: Index(['Name', 'Year', 'Duration', 'Genre', 'Rating', 'Director', 'Actor 1',\n",
      "       'Actor 2', 'Actor 3'],\n",
      "      dtype='object')\n",
      "\n",
      " Cleaned and Encoded Data Preview:\n",
      "                                 Name    Year Duration  Genre  Rating  \\\n",
      "1  #Gadhvi (He thought he was Gandhi)  (2019)  109 min    229     7.0   \n",
      "3                             #Yaaram  (2019)  110 min    184     4.4   \n",
      "5                ...Aur Pyaar Ho Gaya  (1997)  147 min    157     4.7   \n",
      "6                           ...Yahaan  (2005)  142 min    289     7.4   \n",
      "8                  ?: A Question Mark  (2012)   82 min    320     5.6   \n",
      "\n",
      "   Director  Actor 1  Actor 2  Actor 3  \n",
      "1       629     1352     2272      319  \n",
      "3      1335     1198      719     2148  \n",
      "5      1530      378       75     2045  \n",
      "6      2044      692     1112     2524  \n",
      "8       135     1934     1175     1013  \n"
     ]
    }
   ],
   "source": [
    "columns_to_drop = ['Description', 'Votes', 'Gross', 'Certificate']\n",
    "df.drop([col for col in columns_to_drop if col in df.columns], axis=1, inplace=True)\n",
    "\n",
    "df.dropna(inplace=True)\n",
    "print(\"\\n Current Columns:\",df.columns)\n",
    "columns_to_encode = ['Genre', 'Director', 'Actor 1', 'Actor 2', 'Actor 3']\n",
    "\n",
    "le = LabelEncoder()\n",
    "for col in columns_to_encode:\n",
    "    if col in df.columns:\n",
    "        df[col] = le.fit_transform(df[col])\n",
    "    else:\n",
    "        print(f\"column '{col}' not found in dataset.Skipping...\")\n",
    "\n",
    "#Confirm clean and encodinng\n",
    "print(\"\\n Cleaned and Encoded Data Preview:\")\n",
    "print(df.head())\n"
   ]
  },
  {
   "cell_type": "markdown",
   "id": "87beda4a",
   "metadata": {},
   "source": [
    "Features and Target"
   ]
  },
  {
   "cell_type": "code",
   "execution_count": 5,
   "id": "4b98aae6",
   "metadata": {},
   "outputs": [
    {
     "name": "stdout",
     "output_type": "stream",
     "text": [
      "\n",
      "Before cleaning\n",
      "Name         object\n",
      "Year         object\n",
      "Duration     object\n",
      "Genre         int64\n",
      "Rating      float64\n",
      "Director      int64\n",
      "Actor 1       int64\n",
      "Actor 2       int64\n",
      "Actor 3       int64\n",
      "dtype: object\n",
      "\n",
      "Data types after cleaning:\n",
      " Name         object\n",
      "Year        float64\n",
      "Duration    float64\n",
      "Genre         int64\n",
      "Rating      float64\n",
      "Director      int64\n",
      "Actor 1       int64\n",
      "Actor 2       int64\n",
      "Actor 3       int64\n",
      "dtype: object\n",
      "\n",
      "Model Evaluation: \n",
      "Mean Squared Error:  1.76\n",
      "R-Squared score: 0.05\n"
     ]
    }
   ],
   "source": [
    "print(\"\\nBefore cleaning\")\n",
    "print(df.dtypes)\n",
    "if 'Year' in df.columns and df['Year'].dtype == 'object':\n",
    "    df['Year'] = df['Year'].str.extract(r'(\\d{4})')\n",
    "    df['Year'] = df['Year'].astype(float)\n",
    "\n",
    "if 'Runtime' in df.columns and df['Runtime'].dtype == 'object':\n",
    "    df['Runtime'] = df['Runtime'].str.extract(r'(\\d+)')\n",
    "    df['Runtime'] = df['Runtime'].astype(float)\n",
    "\n",
    "if 'Duration' in df.columns and df['Duration'].dtype == 'object':\n",
    "    df['Duration'] = df['Duration'].str.extract(r'(\\d+)')\n",
    "    df['Duration'] = df['Duration'].astype(float)\n",
    "\n",
    "print(\"\\nData types after cleaning:\\n\", df.dtypes)\n",
    "\n",
    "x = df.drop(['Rating', 'Name'], axis=1)\n",
    "y = df['Rating']\n",
    "\n",
    "x_train, x_test, y_train, y_test = train_test_split(x, y, test_size=0.2, random_state=42 )\n",
    "\n",
    "model = LinearRegression()\n",
    "model.fit(x_train, y_train)\n",
    "\n",
    "y_pred = model.predict(x_test)\n",
    "\n",
    "mse = mean_squared_error(y_test, y_pred)\n",
    "r2 = r2_score(y_test, y_pred)\n",
    "\n",
    "print(f\"\\nModel Evaluation: \\nMean Squared Error: {mse: .2f}\")\n",
    "print(f\"R-Squared score: {r2:.2f}\")"
   ]
  },
  {
   "cell_type": "markdown",
   "id": "11cdcf85",
   "metadata": {},
   "source": [
    "Visualize Actual VS Predicted Ratings"
   ]
  },
  {
   "cell_type": "code",
   "execution_count": 6,
   "id": "17d45889",
   "metadata": {},
   "outputs": [
    {
     "data": {
      "image/png": "[encoded data removed]",
      "text/plain": [
       "<Figure size 800x600 with 1 Axes>"
      ]
     },
     "metadata": {},
     "output_type": "display_data"
    }
   ],
   "source": [
    "plt.figure(figsize=(8,6))\n",
    "plt.scatter(y_test, y_pred, color='skyblue', edgecolor='k')\n",
    "plt.xlabel(\"Actual Ratings\")\n",
    "plt.ylabel(\"Predicted Ratings\")\n",
    "plt.title(\"Actual Vs Predicted Ratings\")\n",
    "plt.plot([y_test.min(), y_test.max()], [y_test.min(), y_test.max()], 'r--')\n",
    "plt.grid(True)\n",
    "plt.show()"
   ]
  },
  {
   "cell_type": "markdown",
   "id": "b72d3276",
   "metadata": {},
   "source": [
    "Display a Comparison Table"
   ]
  },
  {
   "cell_type": "code",
   "execution_count": 7,
   "id": "cfed8440",
   "metadata": {},
   "outputs": [
    {
     "name": "stdout",
     "output_type": "stream",
     "text": [
      "       Actual Rating  Predicted Rating\n",
      "10971            6.0               5.7\n",
      "14052            2.4               5.9\n",
      "10002            3.8               6.0\n",
      "3970             3.8               5.7\n",
      "8840             7.2               5.4\n",
      "5071             6.3               5.5\n",
      "2709             8.6               5.5\n",
      "11842            3.9               6.1\n",
      "10910            6.6               6.0\n",
      "4485             6.6               6.4\n"
     ]
    }
   ],
   "source": [
    "comparison_df = pd.DataFrame({'Actual Rating': y_test, 'Predicted Rating': y_pred.round(1)})\n",
    "print(comparison_df.head(10))"
   ]
  },
  {
   "cell_type": "markdown",
   "id": "3c724a49",
   "metadata": {},
   "source": [
    "Try the model: RandomForestRegressor"
   ]
  },
  {
   "cell_type": "code",
   "execution_count": 8,
   "id": "d61ab35b",
   "metadata": {},
   "outputs": [
    {
     "name": "stdout",
     "output_type": "stream",
     "text": [
      "\n",
      "Random Forest Model:\n",
      "MSE: 1.60, R2: 0.14\n"
     ]
    },
    {
     "data": {
      "text/plain": [
       "['linear_rating_model.pkl']"
      ]
     },
     "execution_count": 8,
     "metadata": {},
     "output_type": "execute_result"
    }
   ],
   "source": [
    "rf_model = RandomForestRegressor(n_estimators=100, random_state=42)\n",
    "rf_model.fit(x_train, y_train)\n",
    "rf_pred = rf_model.predict(x_test)\n",
    "\n",
    "rf_mse = mean_squared_error(y_test, rf_pred)\n",
    "rf_r2 = r2_score(y_test, rf_pred)\n",
    "print(f\"\\nRandom Forest Model:\\nMSE: {rf_mse:.2f}, R2: {rf_r2:.2f}\")\n",
    "\n",
    "joblib.dump(model, 'linear_rating_model.pkl')"
   ]
  },
  {
   "cell_type": "code",
   "execution_count": 9,
   "id": "08a76d56",
   "metadata": {},
   "outputs": [
    {
     "data": {
      "text/plain": [
       "['random_forest_rating_model.pkl']"
      ]
     },
     "execution_count": 9,
     "metadata": {},
     "output_type": "execute_result"
    }
   ],
   "source": [
    "joblib.dump(rf_model, 'random_forest_rating_model.pkl')"
   ]
  },
  {
   "cell_type": "markdown",
   "id": "1ddf5aae",
   "metadata": {},
   "source": [
    "CONCLUSION:\n",
    "\n",
    "This project builds a regression model to predict IMDb movie ratings based on factors like genre, director, top actors, runtime, and year. After data cleaning and feature encoding, a Linear Regression model was trained and achieved an R² score of ___ (fill with your result). Visualization of actual vs predicted ratings confirmed the model’s decent accuracy.\n"
   ]
  }
 ],
 "metadata": {
  "kernelspec": {
   "display_name": "Python 3",
   "language": "python",
   "name": "python3"
  },
  "language_info": {
   "codemirror_mode": {
    "name": "ipython",
    "version": 3
   },
   "file_extension": ".py",
   "mimetype": "text/x-python",
   "name": "python",
   "nbconvert_exporter": "python",
   "pygments_lexer": "ipython3",
   "version": "3.13.4"
  }
 },
 "nbformat": 4,
 "nbformat_minor": 5
}
